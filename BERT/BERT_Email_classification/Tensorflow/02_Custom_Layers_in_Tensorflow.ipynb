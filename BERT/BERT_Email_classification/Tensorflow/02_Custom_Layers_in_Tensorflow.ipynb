{
 "cells": [
  {
   "cell_type": "markdown",
   "metadata": {},
   "source": []
  },
  {
   "cell_type": "markdown",
   "metadata": {},
   "source": [
    "### Custom Layers in Tensorflow\n",
    "- Custom Layers help you define unique operations that is not readily available in standard tensorflow libaray.\n",
    "- Inheriated from Keras.layers.Layer. And Overide the follwing methods.\n",
    "    - __init__: Initialize the layer and its configuration\n",
    "    - build: which defines the weights or other parametrs\n",
    "    - call: that implements forward pass"
   ]
  },
  {
   "cell_type": "code",
   "execution_count": 3,
   "metadata": {},
   "outputs": [
    {
     "name": "stdout",
     "output_type": "stream",
     "text": [
      "Input:  [1 2 3 4 5]\n",
      "Output:  tf.Tensor([3 4 5 6 7], shape=(5,), dtype=int32)\n"
     ]
    }
   ],
   "source": [
    "# Lets design a custom Layers that adds 2 to Each Input Parametrs\n",
    "import tensorflow as tf\n",
    "from tensorflow.keras.layers import Layer\n",
    "import numpy as np\n",
    "\n",
    "\n",
    "class AddTwoToLayer(tf.keras.layers.Layer):\n",
    "    def __init(self, **kwargs):\n",
    "        super(AddTwoToLayer, self).__init__(**kwargs)\n",
    "    \n",
    "    def call(self, inputs):\n",
    "        return inputs + 2\n",
    "\n",
    "sample_input = np.array([1, 2, 3, 4, 5])\n",
    "add_2_to_layer = AddTwoToLayer()\n",
    "output_s = add_2_to_layer(sample_input)\n",
    "print(\"Input: \", sample_input)\n",
    "print(\"Output: \", output_s)"
   ]
  },
  {
   "cell_type": "markdown",
   "metadata": {},
   "source": [
    "#### Lets Implement a custom activation function.\n",
    "- Lets create a custom activation function, piecewise activation function, where output behaves differently depending on Input Value"
   ]
  },
  {
   "cell_type": "code",
   "execution_count": 4,
   "metadata": {},
   "outputs": [
    {
     "name": "stdout",
     "output_type": "stream",
     "text": [
      "Input:  [ 1  2 -1 -2]\n",
      "Output:  [1 4 0 0]\n"
     ]
    }
   ],
   "source": [
    "import tensorflow as tf\n",
    "from tensorflow.keras.layers import Layer\n",
    "\n",
    "\n",
    "class PiecewiseActivation(tf.keras.layers.Layer):\n",
    "    def __init__(self, **kwargs):\n",
    "        super(PiecewiseActivation, self).__init__(**kwargs)\n",
    "\n",
    "    def call(self, inputs):\n",
    "        return tf.where(inputs > 0, inputs**2, 0)\n",
    "\n",
    "input_data = tf.constant([1, 2, -1, -2])\n",
    "piecewise_layer = PiecewiseActivation()\n",
    "output_data = piecewise_layer(input_data)\n",
    "print(\"Input: \", input_data.numpy())\n",
    "print(\"Output: \", output_data.numpy())"
   ]
  },
  {
   "cell_type": "code",
   "execution_count": 5,
   "metadata": {},
   "outputs": [
    {
     "name": "stdout",
     "output_type": "stream",
     "text": [
      "Input data:  tf.Tensor([1 2 3 4], shape=(4,), dtype=int32)\n",
      "Output data:  tf.Tensor([2. 4. 6. 8.], shape=(4,), dtype=float32)\n"
     ]
    }
   ],
   "source": [
    "class ScalingLayer(tf.keras.layers.Layer):\n",
    "    def __init__(self, **kwargs):\n",
    "        super(ScalingLayer, self).__init__(**kwargs) # Calls the init method of Parents class tf.keras.layers.Layer to initialize its properties and ensure custom layer iniherits all properties and methods of parent class\n",
    "\n",
    "    def build(self, input_shape):\n",
    "        # Intialize the trainble weights\n",
    "        self.w = self.add_weight(\n",
    "            name=\"scale_weight\",\n",
    "            shape=(1, ),\n",
    "            initializer=tf.keras.initializers.Constant(2),\n",
    "            trainable=True\n",
    "        )\n",
    "        # Intailize trainable Bias\n",
    "        self.b = self.add_weight(\n",
    "            name=\"bias\",\n",
    "            shape=(1, ),\n",
    "            initializer=tf.keras.initializers.Constant(0)\n",
    "        )\n",
    "\n",
    "        super(ScalingLayer, self).build(input_shape) # Triggers the build method of parent class - tf.keras.layers.Layer\n",
    "\n",
    "\n",
    "    def call(self, inputs):\n",
    "        return self.w * inputs + self.b\n",
    "        \n",
    "\n",
    "input_data = tf.constant([1, 2, 3, 4])\n",
    "scaled_data = ScalingLayer()\n",
    "output_3 = scaled_data(input_data)\n",
    "print(\"Input data: \", input_data)\n",
    "print(\"Output data: \", output_3)"
   ]
  }
 ],
 "metadata": {
  "kernelspec": {
   "display_name": "Python 3",
   "language": "python",
   "name": "python3"
  },
  "language_info": {
   "codemirror_mode": {
    "name": "ipython",
    "version": 3
   },
   "file_extension": ".py",
   "mimetype": "text/x-python",
   "name": "python",
   "nbconvert_exporter": "python",
   "pygments_lexer": "ipython3",
   "version": "3.12.5"
  }
 },
 "nbformat": 4,
 "nbformat_minor": 2
}
